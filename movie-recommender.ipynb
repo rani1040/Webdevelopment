{
 "cells": [
  {
   "cell_type": "markdown",
   "id": "0f6363c6",
   "metadata": {},
   "source": [
    "# 1. Data Gathering "
   ]
  },
  {
   "cell_type": "code",
   "execution_count": 1,
   "id": "5c93e668",
   "metadata": {},
   "outputs": [],
   "source": [
    "import numpy as np\n",
    "import pandas as pd\n",
    "import ast # for converting string to list "
   ]
  },
  {
   "cell_type": "code",
   "execution_count": 2,
   "id": "c896ef87",
   "metadata": {},
   "outputs": [],
   "source": [
    "movies = pd.read_csv(\"tmdb_5000_movies.csv\")\n",
    "credits = pd.read_csv(\"tmdb_5000_credits.csv\")"
   ]
  },
  {
   "cell_type": "code",
   "execution_count": 3,
   "id": "5ef11e68",
   "metadata": {},
   "outputs": [
    {
     "data": {
      "text/html": [
       "<div>\n",
       "<style scoped>\n",
       "    .dataframe tbody tr th:only-of-type {\n",
       "        vertical-align: middle;\n",
       "    }\n",
       "\n",
       "    .dataframe tbody tr th {\n",
       "        vertical-align: top;\n",
       "    }\n",
       "\n",
       "    .dataframe thead th {\n",
       "        text-align: right;\n",
       "    }\n",
       "</style>\n",
       "<table border=\"1\" class=\"dataframe\">\n",
       "  <thead>\n",
       "    <tr style=\"text-align: right;\">\n",
       "      <th></th>\n",
       "      <th>budget</th>\n",
       "      <th>genres</th>\n",
       "      <th>homepage</th>\n",
       "      <th>id</th>\n",
       "      <th>keywords</th>\n",
       "      <th>original_language</th>\n",
       "      <th>original_title</th>\n",
       "      <th>overview</th>\n",
       "      <th>popularity</th>\n",
       "      <th>production_companies</th>\n",
       "      <th>production_countries</th>\n",
       "      <th>release_date</th>\n",
       "      <th>revenue</th>\n",
       "      <th>runtime</th>\n",
       "      <th>spoken_languages</th>\n",
       "      <th>status</th>\n",
       "      <th>tagline</th>\n",
       "      <th>title</th>\n",
       "      <th>vote_average</th>\n",
       "      <th>vote_count</th>\n",
       "    </tr>\n",
       "  </thead>\n",
       "  <tbody>\n",
       "    <tr>\n",
       "      <th>0</th>\n",
       "      <td>237000000</td>\n",
       "      <td>[{\"id\": 28, \"name\": \"Action\"}, {\"id\": 12, \"nam...</td>\n",
       "      <td>http://www.avatarmovie.com/</td>\n",
       "      <td>19995</td>\n",
       "      <td>[{\"id\": 1463, \"name\": \"culture clash\"}, {\"id\":...</td>\n",
       "      <td>en</td>\n",
       "      <td>Avatar</td>\n",
       "      <td>In the 22nd century, a paraplegic Marine is di...</td>\n",
       "      <td>150.437577</td>\n",
       "      <td>[{\"name\": \"Ingenious Film Partners\", \"id\": 289...</td>\n",
       "      <td>[{\"iso_3166_1\": \"US\", \"name\": \"United States o...</td>\n",
       "      <td>2009-12-10</td>\n",
       "      <td>2787965087</td>\n",
       "      <td>162.0</td>\n",
       "      <td>[{\"iso_639_1\": \"en\", \"name\": \"English\"}, {\"iso...</td>\n",
       "      <td>Released</td>\n",
       "      <td>Enter the World of Pandora.</td>\n",
       "      <td>Avatar</td>\n",
       "      <td>7.2</td>\n",
       "      <td>11800</td>\n",
       "    </tr>\n",
       "  </tbody>\n",
       "</table>\n",
       "</div>"
      ],
      "text/plain": [
       "      budget                                             genres   \n",
       "0  237000000  [{\"id\": 28, \"name\": \"Action\"}, {\"id\": 12, \"nam...  \\\n",
       "\n",
       "                      homepage     id   \n",
       "0  http://www.avatarmovie.com/  19995  \\\n",
       "\n",
       "                                            keywords original_language   \n",
       "0  [{\"id\": 1463, \"name\": \"culture clash\"}, {\"id\":...                en  \\\n",
       "\n",
       "  original_title                                           overview   \n",
       "0         Avatar  In the 22nd century, a paraplegic Marine is di...  \\\n",
       "\n",
       "   popularity                               production_companies   \n",
       "0  150.437577  [{\"name\": \"Ingenious Film Partners\", \"id\": 289...  \\\n",
       "\n",
       "                                production_countries release_date     revenue   \n",
       "0  [{\"iso_3166_1\": \"US\", \"name\": \"United States o...   2009-12-10  2787965087  \\\n",
       "\n",
       "   runtime                                   spoken_languages    status   \n",
       "0    162.0  [{\"iso_639_1\": \"en\", \"name\": \"English\"}, {\"iso...  Released  \\\n",
       "\n",
       "                       tagline   title  vote_average  vote_count  \n",
       "0  Enter the World of Pandora.  Avatar           7.2       11800  "
      ]
     },
     "execution_count": 3,
     "metadata": {},
     "output_type": "execute_result"
    }
   ],
   "source": [
    "movies.head(1)"
   ]
  },
  {
   "cell_type": "code",
   "execution_count": 4,
   "id": "809f47c0",
   "metadata": {},
   "outputs": [
    {
     "data": {
      "text/html": [
       "<div>\n",
       "<style scoped>\n",
       "    .dataframe tbody tr th:only-of-type {\n",
       "        vertical-align: middle;\n",
       "    }\n",
       "\n",
       "    .dataframe tbody tr th {\n",
       "        vertical-align: top;\n",
       "    }\n",
       "\n",
       "    .dataframe thead th {\n",
       "        text-align: right;\n",
       "    }\n",
       "</style>\n",
       "<table border=\"1\" class=\"dataframe\">\n",
       "  <thead>\n",
       "    <tr style=\"text-align: right;\">\n",
       "      <th></th>\n",
       "      <th>movie_id</th>\n",
       "      <th>title</th>\n",
       "      <th>cast</th>\n",
       "      <th>crew</th>\n",
       "    </tr>\n",
       "  </thead>\n",
       "  <tbody>\n",
       "    <tr>\n",
       "      <th>0</th>\n",
       "      <td>19995</td>\n",
       "      <td>Avatar</td>\n",
       "      <td>[{\"cast_id\": 242, \"character\": \"Jake Sully\", \"...</td>\n",
       "      <td>[{\"credit_id\": \"52fe48009251416c750aca23\", \"de...</td>\n",
       "    </tr>\n",
       "  </tbody>\n",
       "</table>\n",
       "</div>"
      ],
      "text/plain": [
       "   movie_id   title                                               cast   \n",
       "0     19995  Avatar  [{\"cast_id\": 242, \"character\": \"Jake Sully\", \"...  \\\n",
       "\n",
       "                                                crew  \n",
       "0  [{\"credit_id\": \"52fe48009251416c750aca23\", \"de...  "
      ]
     },
     "execution_count": 4,
     "metadata": {},
     "output_type": "execute_result"
    }
   ],
   "source": [
    "credits.head(1)"
   ]
  },
  {
   "cell_type": "code",
   "execution_count": 5,
   "id": "8af1521b",
   "metadata": {},
   "outputs": [],
   "source": [
    "# credits.head(1)['crew'].values"
   ]
  },
  {
   "cell_type": "markdown",
   "id": "0ff501bd",
   "metadata": {},
   "source": [
    "## Merging both dataframes"
   ]
  },
  {
   "cell_type": "markdown",
   "id": "495a54b6",
   "metadata": {},
   "source": [
    "we can merge both dataset on the basis of either title or id"
   ]
  },
  {
   "cell_type": "code",
   "execution_count": 6,
   "id": "adacd8dc",
   "metadata": {},
   "outputs": [
    {
     "data": {
      "text/plain": [
       "(4803, 20)"
      ]
     },
     "execution_count": 6,
     "metadata": {},
     "output_type": "execute_result"
    }
   ],
   "source": [
    "movies.shape"
   ]
  },
  {
   "cell_type": "code",
   "execution_count": 7,
   "id": "80463c1b",
   "metadata": {},
   "outputs": [
    {
     "data": {
      "text/plain": [
       "(4803, 4)"
      ]
     },
     "execution_count": 7,
     "metadata": {},
     "output_type": "execute_result"
    }
   ],
   "source": [
    "credits.shape\n",
    " "
   ]
  },
  {
   "cell_type": "code",
   "execution_count": null,
   "id": "74502d52",
   "metadata": {},
   "outputs": [],
   "source": [
    "movies = movies.merge(credits,on='title')\n",
    "movies.shape"
   ]
  },
  {
   "cell_type": "markdown",
   "id": "a845cc69",
   "metadata": {},
   "source": [
    "# Preprocessing "
   ]
  },
  {
   "cell_type": "markdown",
   "id": "7922f554",
   "metadata": {},
   "source": [
    "we will be creating a content based recommender system so we will be using only that columns which is helping us in creaditing tags so we are going to ask question before selecting a columns that :\n",
    "    **Where this column is helpfull in creating tags ?** :\n",
    "        "
   ]
  },
  {
   "cell_type": "code",
   "execution_count": null,
   "id": "d339c5c5",
   "metadata": {},
   "outputs": [],
   "source": [
    "movies.head(1).columns"
   ]
  },
  {
   "cell_type": "markdown",
   "id": "e2986653",
   "metadata": {},
   "source": [
    "### columns we will be kepping \n",
    "* genres\n",
    "* id\n",
    "* keywords\n",
    "* overview \n",
    "* title\n",
    "* cast \n",
    "* crew\n",
    "* release date\n",
    "\n",
    "\n",
    "\n"
   ]
  },
  {
   "cell_type": "code",
   "execution_count": null,
   "id": "dba3177d",
   "metadata": {},
   "outputs": [],
   "source": [
    "movies = movies[['movie_id','title','genres','keywords', 'overview','cast','crew']]"
   ]
  },
  {
   "cell_type": "code",
   "execution_count": null,
   "id": "7fa7f3dd",
   "metadata": {},
   "outputs": [],
   "source": [
    "# movies.info()"
   ]
  },
  {
   "cell_type": "markdown",
   "id": "e963c531",
   "metadata": {},
   "source": [
    "**we will be creating new data frame from this dataset having three columns :**\n",
    "* movie id\n",
    "* title\n",
    "* tag \n",
    "\n",
    "now we need to creat this tag columns"
   ]
  },
  {
   "cell_type": "code",
   "execution_count": null,
   "id": "1dcc5b59",
   "metadata": {},
   "outputs": [],
   "source": [
    "# Missing data"
   ]
  },
  {
   "cell_type": "code",
   "execution_count": null,
   "id": "501fc38c",
   "metadata": {},
   "outputs": [],
   "source": [
    "# movies[movies.isnull()==True]\n",
    "movies.isnull().sum()"
   ]
  },
  {
   "cell_type": "markdown",
   "id": "28c951f7",
   "metadata": {},
   "source": [
    "there is 3 movies in which overoview is missing, since 3 is not big number we will drop this"
   ]
  },
  {
   "cell_type": "code",
   "execution_count": null,
   "id": "09843118",
   "metadata": {},
   "outputs": [],
   "source": [
    "movies.dropna(inplace=True)"
   ]
  },
  {
   "cell_type": "code",
   "execution_count": null,
   "id": "a1832d36",
   "metadata": {},
   "outputs": [],
   "source": [
    "movies.duplicated().sum()"
   ]
  },
  {
   "cell_type": "code",
   "execution_count": null,
   "id": "041113da",
   "metadata": {},
   "outputs": [],
   "source": [
    "movies.iloc[0]['genres']"
   ]
  },
  {
   "cell_type": "markdown",
   "id": "0c236a28",
   "metadata": {},
   "source": [
    "it is list of dictionary we need to bring all keywords into a list \n",
    "for example :\n",
    "    ['action','adventure','fantasy','scify']"
   ]
  },
  {
   "cell_type": "code",
   "execution_count": null,
   "id": "5289b6c5",
   "metadata": {},
   "outputs": [],
   "source": [
    "def convert(obj):\n",
    "    L=[]\n",
    "    for i in ast.literal_eval(obj):\n",
    "        L.append(i['name'])\n",
    "    return L\n",
    "        "
   ]
  },
  {
   "cell_type": "code",
   "execution_count": null,
   "id": "31bb5a4e",
   "metadata": {},
   "outputs": [],
   "source": [
    "movies['genres']=movies.genres.apply(convert)"
   ]
  },
  {
   "cell_type": "code",
   "execution_count": null,
   "id": "18a42f45",
   "metadata": {},
   "outputs": [],
   "source": [
    "movies['keywords']=movies.keywords.apply(convert)"
   ]
  },
  {
   "cell_type": "code",
   "execution_count": null,
   "id": "503d8414",
   "metadata": {},
   "outputs": [],
   "source": [
    "movies.head(1)"
   ]
  },
  {
   "cell_type": "code",
   "execution_count": null,
   "id": "63cc5193",
   "metadata": {},
   "outputs": [],
   "source": [
    "def convert_cast(obj):\n",
    "    count=0\n",
    "    l=[]\n",
    "    for j in ast.literal_eval(obj):\n",
    "        if count!=3:\n",
    "            l.append(j['name'])\n",
    "            count+=1\n",
    "        else:\n",
    "            break\n",
    "    return l"
   ]
  },
  {
   "cell_type": "code",
   "execution_count": null,
   "id": "b52cc586",
   "metadata": {},
   "outputs": [],
   "source": [
    "movies['cast']=movies['cast'].apply(convert_cast)"
   ]
  },
  {
   "cell_type": "code",
   "execution_count": null,
   "id": "938b3ce3",
   "metadata": {},
   "outputs": [],
   "source": [
    " movies.head(1)"
   ]
  },
  {
   "cell_type": "code",
   "execution_count": null,
   "id": "f277d436",
   "metadata": {},
   "outputs": [],
   "source": [
    "def convert_crew(obj):\n",
    "    director=[]\n",
    "    for i in ast.literal_eval(obj):\n",
    "        if i['job']=='Director':\n",
    "            director.append(i['name'])\n",
    "    return director"
   ]
  },
  {
   "cell_type": "code",
   "execution_count": null,
   "id": "9c6b1eb5",
   "metadata": {},
   "outputs": [],
   "source": [
    "movies['crew']=movies['crew'].apply(convert_crew)"
   ]
  },
  {
   "cell_type": "code",
   "execution_count": null,
   "id": "d9326a4c",
   "metadata": {},
   "outputs": [],
   "source": [
    "movies.head(1)"
   ]
  },
  {
   "cell_type": "code",
   "execution_count": null,
   "id": "329f5ae7",
   "metadata": {},
   "outputs": [],
   "source": [
    "movies['overview']=movies['overview'].apply(lambda x:x.split()) #for i in movies['overview']: print(i.split(\" \")) same code"
   ]
  },
  {
   "cell_type": "markdown",
   "id": "3ae6c9a0",
   "metadata": {},
   "source": [
    "now concatenating genres , keywords , overview and crew , cast columns into one single list then converting that list into one string"
   ]
  },
  {
   "cell_type": "code",
   "execution_count": null,
   "id": "f01a70cf",
   "metadata": {},
   "outputs": [],
   "source": [
    "def transform(obj):\n",
    "    l = []\n",
    "    for i in obj:\n",
    "        l.append(\"\".join(i.split(\" \")))\n",
    "    return l\n",
    "\n",
    "\n",
    "# you can use this alsp movies.apply() lambda x:[i.replace(\" \".'') for i in x]"
   ]
  },
  {
   "cell_type": "code",
   "execution_count": null,
   "id": "b494d63f",
   "metadata": {},
   "outputs": [],
   "source": [
    "movies['cast']=movies['cast'].apply(transform)\n",
    "movies['crew']=movies['crew'].apply(transform)\n",
    "movies['genres']=movies['genres'].apply(transform)\n",
    "movies['keywords']=movies['keywords'].apply(transform)\n",
    "movies['overview']=movies['overview'].apply(transform)"
   ]
  },
  {
   "cell_type": "code",
   "execution_count": null,
   "id": "781d0801",
   "metadata": {},
   "outputs": [],
   "source": [
    "movies.head(5)"
   ]
  },
  {
   "cell_type": "code",
   "execution_count": null,
   "id": "94302a5d",
   "metadata": {},
   "outputs": [],
   "source": [
    "movies['tags'] = movies.keywords + movies.genres + movies.overview + movies.cast + movies.crew"
   ]
  },
  {
   "cell_type": "code",
   "execution_count": null,
   "id": "06fc5333",
   "metadata": {},
   "outputs": [],
   "source": [
    "new_df = movies[['movie_id','title','tags']]\n"
   ]
  },
  {
   "cell_type": "code",
   "execution_count": null,
   "id": "c834a4e1",
   "metadata": {},
   "outputs": [],
   "source": [
    "new_df['tags']=new_df['tags'].apply(lambda x:\" \".join(x))"
   ]
  },
  {
   "cell_type": "code",
   "execution_count": null,
   "id": "0f25d0ec",
   "metadata": {},
   "outputs": [],
   "source": [
    "new_df"
   ]
  },
  {
   "cell_type": "code",
   "execution_count": null,
   "id": "43a6db2c",
   "metadata": {},
   "outputs": [],
   "source": [
    "new_df['tags'][0]"
   ]
  },
  {
   "cell_type": "code",
   "execution_count": null,
   "id": "a90191e8",
   "metadata": {},
   "outputs": [],
   "source": [
    "new_df['tags'] = new_df['tags'].apply(lambda x : x.lower())"
   ]
  },
  {
   "cell_type": "markdown",
   "id": "54cf5b8a",
   "metadata": {},
   "source": [
    "# Text Vectorization "
   ]
  },
  {
   "cell_type": "code",
   "execution_count": null,
   "id": "d59e917d",
   "metadata": {},
   "outputs": [],
   "source": [
    "from sklearn.feature_extraction.text import CountVectorizer\n",
    "\n",
    "cv = CountVectorizer(max_features=5000,stop_words='english')\n"
   ]
  },
  {
   "cell_type": "code",
   "execution_count": null,
   "id": "23c345c6",
   "metadata": {},
   "outputs": [],
   "source": [
    "vectors = cv.fit_transform(new_df['tags']).toarray() # this will give sparse matrix convert it into array"
   ]
  },
  {
   "cell_type": "code",
   "execution_count": null,
   "id": "a8597ef1",
   "metadata": {},
   "outputs": [],
   "source": [
    "vectors.shape"
   ]
  },
  {
   "cell_type": "code",
   "execution_count": null,
   "id": "76b79b7c",
   "metadata": {},
   "outputs": [],
   "source": [
    "vectors[0]"
   ]
  },
  {
   "cell_type": "markdown",
   "id": "4c624094",
   "metadata": {},
   "source": [
    "we can see the most frequents words using one feature get_feature name"
   ]
  },
  {
   "cell_type": "code",
   "execution_count": null,
   "id": "5fb1fbc0",
   "metadata": {},
   "outputs": [],
   "source": [
    "cv.get_feature_names_out()"
   ]
  },
  {
   "cell_type": "markdown",
   "id": "38d2b6f9",
   "metadata": {},
   "source": [
    "# Stemming :\n",
    "technique to make similar function , same"
   ]
  },
  {
   "cell_type": "code",
   "execution_count": null,
   "id": "c64d7661",
   "metadata": {},
   "outputs": [],
   "source": [
    "pip install nltk"
   ]
  },
  {
   "cell_type": "code",
   "execution_count": null,
   "id": "ff846289",
   "metadata": {},
   "outputs": [],
   "source": [
    "import nltk"
   ]
  },
  {
   "cell_type": "code",
   "execution_count": null,
   "id": "6d97996d",
   "metadata": {},
   "outputs": [],
   "source": [
    "from nltk.stem.porter import PorterStemmer\n",
    "\n",
    "ps = PorterStemmer()"
   ]
  },
  {
   "cell_type": "code",
   "execution_count": null,
   "id": "c430e999",
   "metadata": {},
   "outputs": [],
   "source": [
    "def stem(obj):\n",
    "    y = []\n",
    "    for i in obj.split():\n",
    "        y.append(ps.stem(i))\n",
    "    return \" \".join(y)\n",
    "        "
   ]
  },
  {
   "cell_type": "code",
   "execution_count": null,
   "id": "0116a7a1",
   "metadata": {},
   "outputs": [],
   "source": [
    "new_df['tags'] = new_df['tags'].apply(stem)"
   ]
  },
  {
   "cell_type": "markdown",
   "id": "ad236521",
   "metadata": {},
   "source": [
    "* The CountVectorizer is a text vectorization technique that converts a collection of text documents into a matrix of token counts (i.e., the frequency of each word in the document).\n",
    "\n",
    "* max_features=5000: This parameter limits the vocabulary size to the top 5000 most frequent words. It ensures that the resulting vector representation is not too sparse and reduces computational complexity.\n",
    "\n",
    "* stop_words='english': This parameter specifies that common English words (e.g., \"the,\" \"is,\" \"and\") should be excluded from the vocabulary since they often carry little\n",
    "\n",
    "* We use the fit_transform method of the CountVectorizer instance (cv) to perform the vectorization.\n",
    "\n",
    "* The fit_transform method takes the text data from the 'tags' column of the DataFrame new_df and converts it into a document-term matrix.\n",
    "\n",
    "* The resulting vector is a 2D array representing the numerical vector representation of the text data, where each row corresponds to a document (movie) and each column corresponds to a word in the vocabula"
   ]
  },
  {
   "cell_type": "code",
   "execution_count": null,
   "id": "62c05635",
   "metadata": {},
   "outputs": [],
   "source": [
    "cv = CountVectorizer(max_features=5000,stop_words='english')\n",
    "vector = cv.fit_transform(new_df['tags']).toarray()\n"
   ]
  },
  {
   "cell_type": "code",
   "execution_count": null,
   "id": "2ae49f9c",
   "metadata": {},
   "outputs": [],
   "source": [
    "cv.get_feature_names_out()"
   ]
  },
  {
   "cell_type": "markdown",
   "id": "9f56dde4",
   "metadata": {},
   "source": [
    "# Similarity "
   ]
  },
  {
   "cell_type": "markdown",
   "id": "5affc871",
   "metadata": {},
   "source": [
    "we will not be calculating euclidean distance **curse of Dimensionality** because in higher dimension ecludiean distance performance decreases thats why we will be using cosine distance in which we are calculating angle between the two vector and those vector whose angle will be less will be the closest\n",
    "\n",
    "cos(0) == 1 if both vector are same then angle will be zero value will be one\n",
    "cos(90) == 0 if they are perpendicular then distance will be zero \n",
    "\n",
    "**Distance is inversly propotional to similarity**"
   ]
  },
  {
   "cell_type": "code",
   "execution_count": null,
   "id": "8fbf360b",
   "metadata": {},
   "outputs": [],
   "source": [
    "from sklearn.metrics.pairwise import cosine_similarity"
   ]
  },
  {
   "cell_type": "code",
   "execution_count": null,
   "id": "7c4bb013",
   "metadata": {},
   "outputs": [],
   "source": [
    "similarity = cosine_similarity(vector)"
   ]
  },
  {
   "cell_type": "code",
   "execution_count": null,
   "id": "26af99b5",
   "metadata": {},
   "outputs": [],
   "source": [
    "sorted(similarity[0],reverse=True)[1:5]"
   ]
  },
  {
   "cell_type": "code",
   "execution_count": null,
   "id": "16f440da",
   "metadata": {},
   "outputs": [],
   "source": [
    "similarity[0]"
   ]
  },
  {
   "cell_type": "code",
   "execution_count": null,
   "id": "440d973e",
   "metadata": {},
   "outputs": [],
   "source": [
    "list(enumerate(similarity[0]))"
   ]
  },
  {
   "cell_type": "code",
   "execution_count": null,
   "id": "3ee6d8ca",
   "metadata": {},
   "outputs": [],
   "source": [
    "sorted(list(enumerate(similarity[0])),reverse=True)"
   ]
  },
  {
   "cell_type": "code",
   "execution_count": null,
   "id": "3c46d2d4",
   "metadata": {},
   "outputs": [],
   "source": [
    "sorted(list(enumerate(similarity[0])),reverse=True,key= lambda x:x[1])[1:6]\n",
    "movie='Avatar'\n",
    "new_df[new_df['title']==movie].index[0]"
   ]
  },
  {
   "cell_type": "markdown",
   "id": "d1f9cc51",
   "metadata": {},
   "source": [
    " \n",
    "\n",
    "the code snippet is used to sort the similarity scores for the first movie (the row at index 0 of the similarity matrix) in descending order and select the top 5 similar movies (excluding the first movie itself) based on their similarity scores. The result is a list of tuples, where each tuple contains the index of the movie and its corresponding similarity score."
   ]
  },
  {
   "cell_type": "code",
   "execution_count": null,
   "id": "86e556e1",
   "metadata": {},
   "outputs": [],
   "source": [
    "def recommend(movie):\n",
    "    movie_index = new_df[new_df['title']==movie].index[0]\n",
    "    distances = similarity[movie_index]\n",
    "    movie_list = sorted(list(enumerate(similarity[0])),reverse=True,key= lambda x:x[1])[1:6]\n",
    "    for i in movie_list:\n",
    "        print(new_df.iloc[i[0]]['title'])"
   ]
  },
  {
   "cell_type": "code",
   "execution_count": null,
   "id": "4bc28e85",
   "metadata": {},
   "outputs": [],
   "source": [
    "recommend(\"Titan A.E\")"
   ]
  },
  {
   "cell_type": "code",
   "execution_count": null,
   "id": "edfeec37",
   "metadata": {},
   "outputs": [],
   "source": [
    "new_df['title'].values"
   ]
  },
  {
   "cell_type": "code",
   "execution_count": null,
   "id": "895d812c",
   "metadata": {},
   "outputs": [],
   "source": [
    "new_df"
   ]
  },
  {
   "cell_type": "code",
   "execution_count": null,
   "id": "5d44ae57",
   "metadata": {},
   "outputs": [],
   "source": [
    "import pickle"
   ]
  },
  {
   "cell_type": "code",
   "execution_count": null,
   "id": "474cc775",
   "metadata": {},
   "outputs": [],
   "source": [
    "pickle.dump(new_df,open('movies.pkl','wb')) #write binary mode"
   ]
  },
  {
   "cell_type": "code",
   "execution_count": null,
   "id": "dcedb588",
   "metadata": {},
   "outputs": [],
   "source": [
    "pickle.dump(similarity,open('similarity.pkl','wb'))"
   ]
  },
  {
   "cell_type": "code",
   "execution_count": null,
   "id": "0eb43fbf",
   "metadata": {},
   "outputs": [],
   "source": [
    "x={\"adult\":False,\"backdrop_path\":\"/hZkgoQYus5vegHoetLkCJzb17zJ.jpg\",\"belongs_to_collection\":None,\"budget\":63000000,\"genres\":[{\"id\":18,\"name\":\"Drama\"},{\"id\":53,\"name\":\"Thriller\"},{\"id\":35,\"name\":\"Comedy\"}],\"homepage\":\"http://www.foxmovies.com/movies/fight-club\",\"id\":550,\"imdb_id\":\"tt0137523\",\"original_language\":\"en\",\"original_title\":\"Fight Club\",\"overview\":\"A ticking-time-bomb insomniac and a slippery soap salesman channel primal male aggression into a shocking new form of therapy. Their concept catches on, with underground \\\"fight clubs\\\" forming in every town, until an eccentric gets in the way and ignites an out-of-control spiral toward oblivion.\",\"popularity\":97.396,\"poster_path\":\"/pB8BM7pdSp6B6Ih7QZ4DrQ3PmJK.jpg\",\"production_companies\":[{\"id\":508,\"logo_path\":\"/7cxRWzi4LsVm4Utfpr1hfARNurT.png\",\"name\":\"Regency Enterprises\",\"origin_country\":\"US\"},{\"id\":711,\"logo_path\":\"/tEiIH5QesdheJmDAqQwvtN60727.png\",\"name\":\"Fox 2000 Pictures\",\"origin_country\":\"US\"},{\"id\":4700,\"logo_path\":\"/A32wmjrs9Psf4zw0uaixF0GXfxq.png\",\"name\":\"The Linson Company\",\"origin_country\":\"US\"},{\"id\":20555,\"logo_path\":\"/hD8yEGUBlHOcfHYbujp71vD8gZp.png\",\"name\":\"Taurus Film\",\"origin_country\":\"DE\"},{\"id\":54051,\"logo_path\":None,\"name\":\"Atman Entertainment\",\"origin_country\":\"\"},{\"id\":54052,\"logo_path\":None,\"name\":\"Knickerbocker Films\",\"origin_country\":\"US\"}],\"production_countries\":[{\"iso_3166_1\":\"DE\",\"name\":\"Germany\"},{\"iso_3166_1\":\"US\",\"name\":\"United States of America\"}],\"release_date\":\"1999-10-15\",\"revenue\":100853753,\"runtime\":139,\"spoken_languages\":[{\"english_name\":\"English\",\"iso_639_1\":\"en\",\"name\":\"English\"}],\"status\":\"Released\",\"tagline\":\"Mischief. Mayhem. Soap.\",\"title\":\"Fight Club\",\"video\":False,\"vote_average\":8.428,\"vote_count\":25236}"
   ]
  },
  {
   "cell_type": "code",
   "execution_count": null,
   "id": "341a1e1d",
   "metadata": {},
   "outputs": [],
   "source": [
    "x['poster_path']"
   ]
  },
  {
   "cell_type": "code",
   "execution_count": null,
   "id": "701e976d",
   "metadata": {},
   "outputs": [],
   "source": [
    "https://api.themoviedb.org/3/movie/{}?api_key=2234cda012e52526ee792fda591639f4&language=en-US"
   ]
  },
  {
   "cell_type": "code",
   "execution_count": null,
   "id": "2d821d31",
   "metadata": {},
   "outputs": [],
   "source": [
    "2234cda012e52526ee792fda591639f4"
   ]
  },
  {
   "cell_type": "code",
   "execution_count": null,
   "id": "477ee7a1",
   "metadata": {},
   "outputs": [],
   "source": [
    "\n",
    "https://api.themoviedb.org/3/movie/550?api_key=2234cda012e52526ee792fda591639f4&language=en-US"
   ]
  }
 ],
 "metadata": {
  "kernelspec": {
   "display_name": "Python 3 (ipykernel)",
   "language": "python",
   "name": "python3"
  },
  "language_info": {
   "codemirror_mode": {
    "name": "ipython",
    "version": 3
   },
   "file_extension": ".py",
   "mimetype": "text/x-python",
   "name": "python",
   "nbconvert_exporter": "python",
   "pygments_lexer": "ipython3",
   "version": "3.9.7"
  }
 },
 "nbformat": 4,
 "nbformat_minor": 5
}
